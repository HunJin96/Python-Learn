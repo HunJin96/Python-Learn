{
 "cells": [
  {
   "cell_type": "code",
   "execution_count": 4,
   "metadata": {},
   "outputs": [
    {
     "name": "stdout",
     "output_type": "stream",
     "text": [
      "var1[0] H\n",
      "var2[1:5] ython\n"
     ]
    }
   ],
   "source": [
    "#創建和訪問字符串\n",
    "var1 = 'Hello Word'\n",
    "var2 = \"Python Programming\"\n",
    "print(\"var1[0]\",var1[0])\n",
    "print(\"var2[1:5]\",var2[1:6])  #切片,第一個數字代表切片開始的位置,第二個數代表切片到哪裡結束\n"
   ]
  },
  {
   "cell_type": "code",
   "execution_count": 6,
   "metadata": {},
   "outputs": [
    {
     "name": "stdout",
     "output_type": "stream",
     "text": [
      "ASCII碼65代表: A\n",
      "ASCII碼66代表: B\n",
      "轉換成十禁制分別為: 255 和43779\n",
      "轉換成科學計數法為: 1.200000e+05\n"
     ]
    }
   ],
   "source": [
    "charA=65\n",
    "charB=66\n",
    "print(\"ASCII碼65代表: %c\" % charA)\n",
    "print(\"ASCII碼66代表: %c\" % charB)\n",
    "Num1=0xFF\n",
    "Num2=0xAB03\n",
    "print('轉換成十禁制分別為: %d 和%d' %(Num1,Num2))\n",
    "Num3=120000\n",
    "print('轉換成科學計數法為: %e' %Num3)"
   ]
  },
  {
   "cell_type": "code",
   "execution_count": 7,
   "metadata": {},
   "outputs": [
    {
     "name": "stdout",
     "output_type": "stream",
     "text": [
      "0o24\n",
      "345\n",
      "20.0\n",
      "A\n"
     ]
    }
   ],
   "source": [
    "x=20\n",
    "y=345.6\n",
    "print(oct(x))  #整數轉換8進制\n",
    "print(int(y))\n",
    "print(float(x))\n",
    "print(chr(65))  #轉換ASCII"
   ]
  },
  {
   "cell_type": "code",
   "execution_count": 8,
   "metadata": {},
   "outputs": [
    {
     "name": "stdout",
     "output_type": "stream",
     "text": [
      "ABC\n"
     ]
    }
   ],
   "source": [
    "a='ABC'\n",
    "b=a\n",
    "a='XYZ'\n",
    "print(b)"
   ]
  },
  {
   "cell_type": "code",
   "execution_count": 12,
   "metadata": {},
   "outputs": [
    {
     "name": "stdout",
     "output_type": "stream",
     "text": [
      "0,1,2,3,4,5,\n",
      "\n",
      "3,4,5,6,7,8,\n",
      "\n",
      "6,7,8,9,10,11,\n",
      "\n"
     ]
    }
   ],
   "source": [
    "row=3\n",
    "cols=6\n",
    "matrix=[[0 for col in range(cols)] for row in range(row)]\n",
    "for i in range(row):\n",
    "    for j in range(cols):\n",
    "        matrix[i][j] = i*3+j\n",
    "        print(matrix[i][j],end=\",\")\n",
    "    print('\\n')"
   ]
  },
  {
   "cell_type": "code",
   "execution_count": 15,
   "metadata": {},
   "outputs": [
    {
     "name": "stdout",
     "output_type": "stream",
     "text": [
      "x= 10\n",
      "y= 10\n",
      "z= 10\n",
      "10 10 10\n"
     ]
    }
   ],
   "source": [
    "x = input('x= ')\n",
    "y = input('y= ')\n",
    "z = input('z= ')\n",
    "if x>y:\n",
    "    x, y = y, x #x , 互換\n",
    "if x>z:\n",
    "    x, z = z, x\n",
    "if y>z:\n",
    "    y, z = z, y\n",
    "print(x,y,z)"
   ]
  },
  {
   "cell_type": "code",
   "execution_count": 22,
   "metadata": {},
   "outputs": [
    {
     "name": "stdout",
     "output_type": "stream",
     "text": [
      "*\n",
      "**\n",
      "***\n",
      "****\n",
      "*****\n",
      "******\n",
      "*******\n",
      "********\n"
     ]
    }
   ],
   "source": [
    "for i in range (1,9):\n",
    "    #for j in range(0,10-i):\n",
    "        #print(\"\",end=\"\")\n",
    "    for j in range(0,i):\n",
    "        print(\"*\",end=\"\")\n",
    "    print(\"\")"
   ]
  },
  {
   "cell_type": "code",
   "execution_count": 21,
   "metadata": {},
   "outputs": [
    {
     "name": "stdout",
     "output_type": "stream",
     "text": [
      " *\n",
      " **\n",
      " ***\n",
      " ****\n",
      " *****\n",
      " ******\n",
      " *******\n",
      " ********\n"
     ]
    }
   ],
   "source": [
    "for i in range (1,9):\n",
    "    print(\"\" *(10-i),\"*\"*(i))"
   ]
  },
  {
   "cell_type": "code",
   "execution_count": null,
   "metadata": {},
   "outputs": [],
   "source": []
  }
 ],
 "metadata": {
  "kernelspec": {
   "display_name": "Python 3",
   "language": "python",
   "name": "python3"
  },
  "language_info": {
   "codemirror_mode": {
    "name": "ipython",
    "version": 3
   },
   "file_extension": ".py",
   "mimetype": "text/x-python",
   "name": "python",
   "nbconvert_exporter": "python",
   "pygments_lexer": "ipython3",
   "version": "3.7.6"
  }
 },
 "nbformat": 4,
 "nbformat_minor": 4
}
